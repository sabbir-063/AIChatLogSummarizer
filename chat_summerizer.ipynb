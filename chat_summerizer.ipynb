{
 "cells": [
  {
   "cell_type": "code",
   "execution_count": 1,
   "id": "4b88eb8c",
   "metadata": {},
   "outputs": [],
   "source": [
    "import re\n",
    "from collections import Counter"
   ]
  },
  {
   "cell_type": "code",
   "execution_count": 2,
   "id": "76fe9070",
   "metadata": {},
   "outputs": [],
   "source": [
    "chat_file = \"chat.txt\""
   ]
  },
  {
   "cell_type": "code",
   "execution_count": 7,
   "id": "69667496",
   "metadata": {},
   "outputs": [],
   "source": [
    "#Function to count user, ai, and all messages\n",
    "def parse_info(file_path):\n",
    "    user_messages = []\n",
    "    ai_messages = []\n",
    "    all_messages = []\n",
    "\n",
    "    try:\n",
    "        with open(file_path, 'r', encoding='utf-8') as f:\n",
    "            for line in f:\n",
    "                line = line.strip()\n",
    "                if line.startswith(\"User:\"):\n",
    "                    message = line[len(\"User:\"):].strip()\n",
    "                    print(f\"User message: {message}\")\n",
    "                    user_messages.append(message)\n",
    "                    all_messages.append(message)\n",
    "                elif line.startswith(\"AI:\"):\n",
    "                    message = line[len(\"AI:\"):].strip()\n",
    "                    print(f\"AI message: {message}\")\n",
    "                    ai_messages.append(message)\n",
    "                    all_messages.append(message)\n",
    "        return user_messages, ai_messages, all_messages\n",
    "    except FileNotFoundError:\n",
    "        print(f\"Error: The file '{file_path}' was not found.\")\n",
    "        return [], [], []"
   ]
  },
  {
   "cell_type": "code",
   "execution_count": 8,
   "id": "847ef613",
   "metadata": {},
   "outputs": [
    {
     "name": "stdout",
     "output_type": "stream",
     "text": [
      "User message: Hello!\n",
      "AI message: Hi! How can I assist you today?\n",
      "User message: Can you explain what machine learning is?\n",
      "AI message: Certainly! Machine learning is a field of AI that allows systems to learn from data.\n",
      "User message: What are some applications of machine learning?\n",
      "AI message: Machine learning is used in recommendation systems, natural language processing, image recognition etc.\n",
      "User message: That sounds interesting. Thanks!\n",
      "AI message: You're welcome!\n"
     ]
    }
   ],
   "source": [
    "user_msg, ai_msg, all_msg = parse_info(chat_file)"
   ]
  },
  {
   "cell_type": "code",
   "execution_count": 9,
   "id": "7b49db78",
   "metadata": {},
   "outputs": [],
   "source": [
    "total_exchang, user_msg_cnt, ai_msg_cnt = len(user_msg) + len(ai_msg), len(user_msg), len(ai_msg)\n"
   ]
  },
  {
   "cell_type": "code",
   "execution_count": 10,
   "id": "0502a1b7",
   "metadata": {},
   "outputs": [],
   "source": [
    "stop_words = [\n",
    "        \"a\", \"an\", \"and\", \"are\", \"in\", \"is\", \"it\", \"of\",\n",
    "        \"assist\", \"explain\", \"field\", \"systems\", \"used\", \"thanks\", \"welcome\",\n",
    "        \"certainly\", \"hello\", \"hi\", \"today\", \"some\", \"its\", \"more\", \"you're\"\n",
    "]"
   ]
  },
  {
   "cell_type": "code",
   "execution_count": 11,
   "id": "e2366ad0",
   "metadata": {},
   "outputs": [],
   "source": [
    "#top 5 keywords\n",
    "def extract_keywords(messages, stop_words, top_n=5):\n",
    "    all_words = []\n",
    "    for message in messages:\n",
    "        # Convert to lowercase and remove punctuation\n",
    "        words = re.findall(r'\\b\\w+\\b', message.lower())\n",
    "        all_words.extend([word for word in words if word not in stop_words])\n",
    "\n",
    "    word_counts = Counter(all_words)\n",
    "    return [word for word, count in word_counts.most_common(top_n)]"
   ]
  },
  {
   "cell_type": "code",
   "execution_count": 12,
   "id": "16e43030",
   "metadata": {},
   "outputs": [
    {
     "name": "stdout",
     "output_type": "stream",
     "text": [
      "Top 5 keywords: ['machine', 'learning', 'you', 'can', 'what']\n"
     ]
    }
   ],
   "source": [
    "top_keywords = extract_keywords(all_msg, stop_words, top_n=5)\n",
    "print(f\"Top 5 keywords: {top_keywords}\")"
   ]
  },
  {
   "cell_type": "code",
   "execution_count": 20,
   "id": "3880958b",
   "metadata": {},
   "outputs": [
    {
     "name": "stdout",
     "output_type": "stream",
     "text": [
      "Summary:\n",
      "The conversation had 8 exchanges.\n",
      "Most common keywords: machine, learning, you, can, what.\n",
      "The user asked mainly about machine, learning.\n"
     ]
    }
   ],
   "source": [
    "#printing summary\n",
    "print(\"Summary:\")\n",
    "print(f\"The conversation had {total_exchang} exchanges.\")\n",
    "# print(f\"User messages: {user_msg_cnt}\")\n",
    "# print(f\"AI messages: {ai_msg_cnt}\")\n",
    "\n",
    "if top_keywords:\n",
    "    print(f\"Most common keywords: {', '.join(top_keywords)}.\")\n",
    "    # user asked topics\n",
    "    print(f\"The user asked mainly about {', '.join(top_keywords[:2]) if len(top_keywords) >= 2 else top_keywords[0] if top_keywords else 'general topics'}.\")\n",
    "else:\n",
    "    print(\"No significant keywords found.\")"
   ]
  }
 ],
 "metadata": {
  "kernelspec": {
   "display_name": "Python 3",
   "language": "python",
   "name": "python3"
  },
  "language_info": {
   "codemirror_mode": {
    "name": "ipython",
    "version": 3
   },
   "file_extension": ".py",
   "mimetype": "text/x-python",
   "name": "python",
   "nbconvert_exporter": "python",
   "pygments_lexer": "ipython3",
   "version": "3.11.5"
  }
 },
 "nbformat": 4,
 "nbformat_minor": 5
}
