{
 "cells": [
  {
   "cell_type": "code",
   "execution_count": 1,
   "id": "4b88eb8c",
   "metadata": {},
   "outputs": [],
   "source": [
    "import re\n",
    "from collections import Counter"
   ]
  },
  {
   "cell_type": "code",
   "execution_count": 2,
   "id": "76fe9070",
   "metadata": {},
   "outputs": [],
   "source": [
    "chat_file = \"chat.txt\""
   ]
  },
  {
   "cell_type": "code",
   "execution_count": 7,
   "id": "69667496",
   "metadata": {},
   "outputs": [],
   "source": [
    "#Function to count user, ai, and all messages\n",
    "def parse_info(file_path):\n",
    "    user_messages = []\n",
    "    ai_messages = []\n",
    "    all_messages = []\n",
    "\n",
    "    try:\n",
    "        with open(file_path, 'r', encoding='utf-8') as f:\n",
    "            for line in f:\n",
    "                line = line.strip()\n",
    "                if line.startswith(\"User:\"):\n",
    "                    message = line[len(\"User:\"):].strip()\n",
    "                    print(f\"User message: {message}\")\n",
    "                    user_messages.append(message)\n",
    "                    all_messages.append(message)\n",
    "                elif line.startswith(\"AI:\"):\n",
    "                    message = line[len(\"AI:\"):].strip()\n",
    "                    print(f\"AI message: {message}\")\n",
    "                    ai_messages.append(message)\n",
    "                    all_messages.append(message)\n",
    "        return user_messages, ai_messages, all_messages\n",
    "    except FileNotFoundError:\n",
    "        print(f\"Error: The file '{file_path}' was not found.\")\n",
    "        return [], [], []"
   ]
  },
  {
   "cell_type": "code",
   "execution_count": 8,
   "id": "847ef613",
   "metadata": {},
   "outputs": [
    {
     "name": "stdout",
     "output_type": "stream",
     "text": [
      "User message: Hello!\n",
      "AI message: Hi! How can I assist you today?\n",
      "User message: Can you explain what machine learning is?\n",
      "AI message: Certainly! Machine learning is a field of AI that allows systems to learn from data.\n",
      "User message: What are some applications of machine learning?\n",
      "AI message: Machine learning is used in recommendation systems, natural language processing, image recognition etc.\n",
      "User message: That sounds interesting. Thanks!\n",
      "AI message: You're welcome!\n"
     ]
    }
   ],
   "source": [
    "user_msg, ai_msg, all_msg = parse_info(chat_file)"
   ]
  },
  {
   "cell_type": "code",
   "execution_count": null,
   "id": "7b49db78",
   "metadata": {},
   "outputs": [],
   "source": []
  }
 ],
 "metadata": {
  "kernelspec": {
   "display_name": "Python 3",
   "language": "python",
   "name": "python3"
  },
  "language_info": {
   "codemirror_mode": {
    "name": "ipython",
    "version": 3
   },
   "file_extension": ".py",
   "mimetype": "text/x-python",
   "name": "python",
   "nbconvert_exporter": "python",
   "pygments_lexer": "ipython3",
   "version": "3.11.5"
  }
 },
 "nbformat": 4,
 "nbformat_minor": 5
}
